{
 "cells": [
  {
   "cell_type": "code",
   "execution_count": 2,
   "metadata": {},
   "outputs": [],
   "source": [
    "import getpass\n",
    "import os\n",
    "\n",
    "os.environ[\"OPENAI_API_KEY\"] = getpass.getpass()\n",
    "\n",
    "from langchain_openai import ChatOpenAI\n",
    "\n",
    "llm = ChatOpenAI(model=\"gpt-3.5-turbo-0125\")"
   ]
  },
  {
   "cell_type": "code",
   "execution_count": 3,
   "metadata": {},
   "outputs": [],
   "source": [
    "from langchain_community.document_loaders import CSVLoader\n",
    "\n",
    "loader = CSVLoader(file_path='results.csv')\n",
    "\n",
    "docs = loader.load()"
   ]
  },
  {
   "cell_type": "code",
   "execution_count": 5,
   "metadata": {},
   "outputs": [],
   "source": [
    "from langchain_text_splitters import RecursiveCharacterTextSplitter\n",
    "from langchain_openai import OpenAIEmbeddings\n",
    "from langchain_chroma import Chroma\n",
    "\n",
    "text_splitter = RecursiveCharacterTextSplitter(chunk_size = 1000, chunk_overlap = 200)\n",
    "splits = text_splitter.split_documents(docs)\n",
    "\n",
    "vector_store = Chroma.from_documents(documents = splits, embedding = OpenAIEmbeddings())"
   ]
  },
  {
   "cell_type": "code",
   "execution_count": 6,
   "metadata": {},
   "outputs": [],
   "source": [
    "retriever = vector_store.as_retriever()\n",
    "\n",
    "\n"
   ]
  },
  {
   "cell_type": "code",
   "execution_count": 7,
   "metadata": {},
   "outputs": [],
   "source": [
    "from langchain_core.prompts import ChatPromptTemplate\n",
    "\n",
    "prompt = ChatPromptTemplate.from_template(\"\"\"\n",
    "                                          Answer the following questions based only on the provided context.\n",
    "                                          think step by step before before providing a detailed answer.\n",
    "                                          <context>\n",
    "                                          {context}\n",
    "                                          </context>\n",
    "                                          Question: {input}\n",
    "                                          \"\"\")"
   ]
  },
  {
   "cell_type": "code",
   "execution_count": 8,
   "metadata": {},
   "outputs": [],
   "source": [
    "def format_docs(docs):\n",
    "    return \"\\n\\n\".join(doc.page_content for doc in docs)"
   ]
  },
  {
   "cell_type": "code",
   "execution_count": 17,
   "metadata": {},
   "outputs": [],
   "source": [
    "from langchain.chains.combine_documents import create_stuff_documents_chain\n",
    "\n",
    "document_chain = create_stuff_documents_chain(llm, prompt)\n"
   ]
  },
  {
   "cell_type": "code",
   "execution_count": 19,
   "metadata": {},
   "outputs": [],
   "source": [
    "from langchain.chains import create_retrieval_chain\n",
    "\n",
    "retrieveal_chain = create_retrieval_chain(retriever, document_chain)"
   ]
  },
  {
   "cell_type": "code",
   "execution_count": 20,
   "metadata": {},
   "outputs": [
    {
     "name": "stdout",
     "output_type": "stream",
     "text": [
      "Generated Text: {'input': 'Who won the Copa America 2024?', 'context': [Document(page_content='date: 2024-06-29\\nhome_team: Canada\\naway_team: Chile\\nhome_score: 0\\naway_score: 0\\ntournament: Copa América\\ncity: Orlando\\ncountry: United States\\nneutral: TRUE', metadata={'row': 23340, 'source': 'results.csv'}), Document(page_content='date: 2024-07-02\\nhome_team: Costa Rica\\naway_team: Paraguay\\nhome_score: 2\\naway_score: 1\\ntournament: Copa América\\ncity: Austin\\ncountry: United States\\nneutral: TRUE', metadata={'row': 23354, 'source': 'results.csv'}), Document(page_content='date: 2024-06-21\\nhome_team: Peru\\naway_team: Chile\\nhome_score: 0\\naway_score: 0\\ntournament: Copa América\\ncity: Arlington\\ncountry: United States\\nneutral: TRUE', metadata={'row': 23303, 'source': 'results.csv'}), Document(page_content='date: 2024-06-24\\nhome_team: Brazil\\naway_team: Costa Rica\\nhome_score: 0\\naway_score: 0\\ntournament: Copa América\\ncity: Inglewood\\ncountry: United States\\nneutral: TRUE', metadata={'row': 23318, 'source': 'results.csv'})], 'answer': 'Based on the provided context, we do not have information on the winner of the Copa America 2024 as the results of the matches only show individual game outcomes and not the overall tournament winner. To determine the winner of the Copa America 2024, we would need information on all the matches played in the tournament and the final standings.'}\n"
     ]
    }
   ],
   "source": [
    "response = retrieveal_chain.invoke({\"input\": \"Who won the Copa America 2024?\"})\n",
    "print(\"Generated Text:\", response)\n"
   ]
  }
 ],
 "metadata": {
  "kernelspec": {
   "display_name": "cuda",
   "language": "python",
   "name": "python3"
  },
  "language_info": {
   "codemirror_mode": {
    "name": "ipython",
    "version": 3
   },
   "file_extension": ".py",
   "mimetype": "text/x-python",
   "name": "python",
   "nbconvert_exporter": "python",
   "pygments_lexer": "ipython3",
   "version": "3.10.12"
  }
 },
 "nbformat": 4,
 "nbformat_minor": 2
}
